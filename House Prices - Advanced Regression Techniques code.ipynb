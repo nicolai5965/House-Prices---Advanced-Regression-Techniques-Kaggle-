{
 "cells": [
  {
   "cell_type": "markdown",
   "id": "0b95fd62-912f-47e9-bac1-a27e9418b7b5",
   "metadata": {},
   "source": [
    "https://www.kaggle.com/competitions/house-prices-advanced-regression-techniques/data"
   ]
  },
  {
   "cell_type": "code",
   "execution_count": 1,
   "id": "88dc06ec-4a5a-4ca7-a0dd-00eca6db1a18",
   "metadata": {},
   "outputs": [],
   "source": [
    "import numpy as np\n",
    "import pandas as pd \n",
    "import matplotlib.pyplot as plt\n",
    "import time\n",
    "import datetime\n",
    "from collections import Counter\n",
    "\n",
    "from sklearn.decomposition import PCA"
   ]
  },
  {
   "cell_type": "code",
   "execution_count": 2,
   "id": "032e1f59-4490-4d83-84f0-1a94c7b288f2",
   "metadata": {},
   "outputs": [],
   "source": [
    "data_train = pd.read_csv(\"train.csv\")\n",
    "data_test = pd.read_csv(\"test.csv\")"
   ]
  },
  {
   "cell_type": "code",
   "execution_count": 3,
   "id": "a61ff638-e951-4e95-baea-7aaa711b7193",
   "metadata": {},
   "outputs": [],
   "source": [
    "def func_importens_scaling(data,colume_name,initial_list):\n",
    "    list_of_list = [[]] * len(initial_list)\n",
    "    importance_list = list(range(1,len(initial_list)+1))\n",
    "    for i in importance_list:\n",
    "        for j , idx in enumerate(range(len(data[colume_name]))):\n",
    "            if data[colume_name][j] == initial_list[i-1]:\n",
    "                list_of_list[i-1].append([importance_list[i-1],idx])\n",
    "    importance_index = list_of_list[0]\n",
    "    importance_index = pd.DataFrame(importance_index)\n",
    "    importance_index.columns = ['importance' , \"idx\"]\n",
    "    importance_index_sorted = importance_index.sort_values(by = [\"idx\"],ascending=True).reset_index().drop(\"index\",axis = 1)\n",
    "    return importance_index_sorted\n",
    "\n",
    "def data_preparation_features(data):\n",
    "    Neighborhood_names_to_values = pd.DataFrame(pd.factorize(data[\"Neighborhood\"])[0]) #This has been done so one can use the Neighborhoods for a neurale netværk\n",
    "    Neighborhood_names_to_values.columns = [\"Neighborhood_values\"]\n",
    "    PoFaTAGdEx = [\"Po\",\"Fa\",\"TA\",\"Gd\",\"Ex\"]\n",
    "    NaFaTAGdEx = [\"Na\",\"Fa\",\"TA\",\"Gd\",\"Ex\"]\n",
    "    ExterQual_importance_df = func_importens_scaling(data,\"ExterQual\",PoFaTAGdEx)\n",
    "    ExterCond_importance_df = func_importens_scaling(data,\"ExterCond\",PoFaTAGdEx)\n",
    "    HeatingQC_importance_df = func_importens_scaling(data,\"HeatingQC\",PoFaTAGdEx)\n",
    "    features = data[[\"OverallQual\",\"OverallCond\", \"LotArea\"]]\n",
    "    features = pd.concat([features,Neighborhood_names_to_values,ExterCond_importance_df.importance,ExterQual_importance_df.importance,HeatingQC_importance_df.importance], axis=1, ignore_index=True)\n",
    "    features.columns = [\"OverallQual\",\"OverallCond\", \"LotArea\",\"Neighborhood_values\",\"ExterCond\",\"ExterQual\",\"HeatingQC\"]\n",
    "    return features"
   ]
  },
  {
   "cell_type": "code",
   "execution_count": 4,
   "id": "47cf6cc5-02f5-4b05-8ccb-705660368b6c",
   "metadata": {},
   "outputs": [
    {
     "name": "stdout",
     "output_type": "stream",
     "text": [
      "(1460, 7) (1460, 1) (1459, 7)\n",
      "Wall time: 210 ms\n"
     ]
    }
   ],
   "source": [
    "%%time\n",
    "X_train = data_preparation_features(data_train)\n",
    "X_test  = data_preparation_features(data_test)\n",
    "\n",
    "Y_train = pd.DataFrame(data_train[\"SalePrice\"])\n",
    "Y_train.columns = [\"SalePrice\"]\n",
    "\n",
    "print(X_train.shape,Y_train.shape,X_test.shape)"
   ]
  },
  {
   "cell_type": "code",
   "execution_count": 5,
   "id": "ffb97fc4-7762-4164-bd6c-a1cf8edc9bb1",
   "metadata": {},
   "outputs": [
    {
     "name": "stdout",
     "output_type": "stream",
     "text": [
      "[200838.63 186139.   216569.28 ... 248484.09 138592.   141979.  ]\n",
      "0.9641834351261502\n",
      "[142950.75 215900.   146932.53 ... 182368.6  165846.4  180603.56]\n",
      "Wall time: 398 ms\n"
     ]
    }
   ],
   "source": [
    "%%time\n",
    "from sklearn.ensemble import RandomForestRegressor\n",
    "\n",
    "RFR = RandomForestRegressor(max_depth=1000, random_state=42)\n",
    "RFR.fit(X_train, np.ravel(Y_train))\n",
    "print((np.round_(RFR.predict(X_train),2)))\n",
    "print(RFR.score(X_train,Y_train))\n",
    "# Use the forest's predict method on the test data\n",
    "predictions = RFR.predict(X_test)\n",
    "print(predictions)"
   ]
  },
  {
   "cell_type": "code",
   "execution_count": 6,
   "id": "0fa74a1c-a565-40b9-a0cc-806db5e101db",
   "metadata": {},
   "outputs": [
    {
     "name": "stdout",
     "output_type": "stream",
     "text": [
      "[1.03814689 0.97507776 1.03200232 ... 1.07250327 1.02549209 1.03888603]\n",
      "1460\n"
     ]
    }
   ],
   "source": [
    "train_predict = np.round_(RFR.predict(X_train),2)\n",
    "input_over_out = np.array(Y_train)/np.array(train_predict)\n",
    "print(input_over_out.diagonal(0))\n",
    "print(len(input_over_out.diagonal(0)))"
   ]
  },
  {
   "cell_type": "code",
   "execution_count": 7,
   "id": "a378f100-1cd1-45e5-9d8f-0f05fd17ea59",
   "metadata": {},
   "outputs": [
    {
     "name": "stdout",
     "output_type": "stream",
     "text": [
      "Variable: OverallQual          Importance: 0.68\n",
      "Variable: LotArea              Importance: 0.19\n",
      "Variable: Neighborhood_values  Importance: 0.06\n",
      "Variable: OverallCond          Importance: 0.02\n",
      "Variable: ExterQual            Importance: 0.02\n",
      "Variable: ExterCond            Importance: 0.01\n",
      "Variable: HeatingQC            Importance: 0.01\n"
     ]
    }
   ],
   "source": [
    "# Get numerical feature importances\n",
    "importances = list(RFR.feature_importances_)\n",
    "# List of tuples with variable and importance\n",
    "feature_importances = [(feature, round(importance, 2)) for feature, importance in zip(X_train, importances)]\n",
    "# Sort the feature importances by most important first\n",
    "feature_importances = sorted(feature_importances, key = lambda x: x[1], reverse = True)\n",
    "# Print out the feature and importances \n",
    "[print('Variable: {:20} Importance: {}'.format(*pair)) for pair in feature_importances];"
   ]
  },
  {
   "cell_type": "code",
   "execution_count": 13,
   "id": "d13949b0-278b-42ba-8ac6-ba788a73462f",
   "metadata": {},
   "outputs": [
    {
     "name": "stdout",
     "output_type": "stream",
     "text": [
      "Wall time: 283 ms\n"
     ]
    }
   ],
   "source": [
    "%%time\n",
    "def MIVDP(nr_import,X_train,Y_train,X_test):  #data_preparation_features, most importance valuable \n",
    "    MIV = []\n",
    "    for i in range(len(feature_importances[:nr_import])):\n",
    "        MIV.append(feature_importances[:nr_import][i][0])\n",
    "    features_train = pd.DataFrame(X_train[MIV])\n",
    "    features_train.columns = MIV #[[\"1\",\"2\",\"3\"]]\n",
    "    features_test = pd.DataFrame(X_test[MIV])\n",
    "    features_test.columns = MIV\n",
    "    model = RandomForestRegressor(max_depth=1000, random_state=42)\n",
    "    model.fit(features_train, np.ravel(Y_train))\n",
    "    predict_right = np.round_(model.predict(features_train),2)\n",
    "    predict_score = model.score(features_train,Y_train)\n",
    "    predictions = model.predict(features_test)\n",
    "    return features_train , features_test ,predict_right , predict_score , predictions\n",
    "\n",
    "RFR_MIF = MIVDP(3,X_train,Y_train,X_test)"
   ]
  },
  {
   "cell_type": "code",
   "execution_count": 23,
   "id": "33c0056d-8993-47e3-ab7a-6cfd1b14e57e",
   "metadata": {},
   "outputs": [
    {
     "name": "stdout",
     "output_type": "stream",
     "text": [
      "0.5414952585534357 1.8822840028647698\n",
      "1.0051460353380375\n"
     ]
    }
   ],
   "source": [
    "feat7_vs_feat3 = RFR_MIF[4]/RFR.predict(X_test)\n",
    "print(min(feat7_vs_feat3),max(feat7_vs_feat3))\n",
    "print(np.average(feat7_vs_feat3))"
   ]
  }
 ],
 "metadata": {
  "kernelspec": {
   "display_name": "Python 3 (ipykernel)",
   "language": "python",
   "name": "python3"
  },
  "language_info": {
   "codemirror_mode": {
    "name": "ipython",
    "version": 3
   },
   "file_extension": ".py",
   "mimetype": "text/x-python",
   "name": "python",
   "nbconvert_exporter": "python",
   "pygments_lexer": "ipython3",
   "version": "3.9.7"
  }
 },
 "nbformat": 4,
 "nbformat_minor": 5
}
